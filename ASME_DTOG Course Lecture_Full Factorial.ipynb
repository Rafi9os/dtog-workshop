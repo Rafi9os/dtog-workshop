{
 "cells": [
  {
   "cell_type": "markdown",
   "metadata": {},
   "source": [
    "<h1 style=\"text-align: center; color: Blue; font-family: verdana; font-size: 40px;\">ASME DTOG: Introduction - Design of Experiments (DOE)</h1>"
   ]
  },
  {
   "cell_type": "markdown",
   "metadata": {},
   "source": [
    "**Table of contents**<a id='toc0_'></a>    \n",
    "- [Introduction](#toc1_)    \n",
    "- [Design of Experiments](#toc2_)    \n",
    "- [Full Factorial Design](#toc3_)    \n",
    "    - [Fundamental Concepts](#toc3_1_1_)    \n",
    "    - [Example of a Full Factorial Design – JMP Software](#toc3_1_2_)    \n",
    "      - [Five-Factor Full Factorial](#toc3_1_2_1_)    \n",
    "      - [ Constructing a Five-Factor Full Factorial](#toc3_1_2_2_)    \n",
    "      - [ Constructing a Five-Factor Full Factorial Table](#toc3_1_2_3_)    \n",
    "      - [ Analyzing the Five-Factor Full Factorial](#toc3_1_2_4_)    \n",
    "      - [ Screening for Significant Factors for a Five-Factor Full Factorial](#toc3_1_2_5_)    \n",
    "        - [**Screening Analysis: Contrast values, t-ratio values, p-values**](#toc3_1_2_5_1_)    \n",
    "      - [ Half Normal Plot for Main Factors a Five-Factor Full Factorial](#toc3_1_2_6_)    \n",
    "      - [ Model Construction for a Five-Factor Full Factorial](#toc3_1_2_7_)    \n",
    "      - [ Response Results Five-Factor Full Factorial](#toc3_1_2_8_)    \n",
    "      - [ Predictor and Profiler Five-Factor Full Factorial](#toc3_1_2_9_)    \n",
    "    - [Now, find optimal settings for the three active factors involved in the five significant effects that you retained in your model.](#toc3_1_3_)    \n",
    "\n",
    "<!-- vscode-jupyter-toc-config\n",
    "\tnumbering=false\n",
    "\tanchor=true\n",
    "\tflat=false\n",
    "\tminLevel=1\n",
    "\tmaxLevel=6\n",
    "\t/vscode-jupyter-toc-config -->\n",
    "<!-- THIS CELL WILL BE REPLACED ON TOC UPDATE. DO NOT WRITE YOUR TEXT IN THIS CELL -->"
   ]
  },
  {
   "cell_type": "markdown",
   "metadata": {},
   "source": [
    "# <a id='toc1_'></a>[Introduction](#toc0_)"
   ]
  },
  {
   "cell_type": "markdown",
   "metadata": {},
   "source": [
    "**Design of Experiments**\n",
    "\n",
    "The goal of DOE simulations is to make predictions concerning the response of physical systems to various kinds of excitation, and based on those predictions, make informed decisions.\n",
    "\n",
    "Mathematical models are an idealization of reality and should never be confused with the physical reality that they are supposed to represent.\n",
    "\n",
    "The choice of a mathematical model depends on its intended use:\n",
    "    What aspects of the physical reality are of interest?\n",
    "    What data must be predicted?\n",
    "    What accuracy is required?\n",
    "\n",
    "What is very important: there exist errors associated with the mathematical model and some errors are associated with its data driven solutions. These are errors of “Level of Confidence (e.g., 95%) & # Experiments Runs”(DOE) and errors (MAE, RMSE) of “training” set for ML/AI.\n"
   ]
  },
  {
   "cell_type": "markdown",
   "metadata": {},
   "source": [
    "# <a id='toc2_'></a>[Design of Experiments](#toc0_)\n",
    "\n",
    "<span style=\"color:red\"><b>_The Design of Experiments, also known as experiment design or experimental design, is the design of any task that aims to describe and explain the variation of information under conditions that are hypothesized to reflect the variation._</b></span>\n",
    "\n",
    "#### Definition\n",
    "\n",
    "**Design of Experiments (DoE)**\n",
    "\n",
    "Design of Experiments is a systematic method to determine the relationship between factors affecting a process and the output of that process. In a full factorial design, experiments are conducted at all possible combinations of factor levels. This approach allows for the investigation of the effect of each factor and their interactions on the response variable.\n",
    "\n",
    "\n",
    "The term is generally associated with experiments in which the design introduces conditions that directly affect the variation, but may also refer to the design of quasi-experiments, in which natural conditions that influence the variation are selected for observation.\n",
    "\n",
    "In its simplest form, an experiment aims at predicting the outcome by introducing a change of the preconditions, which is represented by one or more independent variables, also referred to as \"input variables\" or \"predictor variables.\" The change in one or more independent variables is generally hypothesized to result in a change in one or more dependent variables, also referred to as \"output variables\" or \"response variables."
   ]
  },
  {
   "cell_type": "markdown",
   "metadata": {},
   "source": [
    "Main concerns in experimental design include the establishment of validity, reliability, and replicability.\n",
    "- For example, these concerns can be partially addressed by carefully choosing the independent variable, reducing the risk of measurement error, and ensuring that the documentation of the method is sufficiently detailed.\n",
    "- Related concerns include achieving appropriate levels of statistical power and sensitivity."
   ]
  },
  {
   "cell_type": "markdown",
   "metadata": {},
   "source": [
    "Correctly designed experiments advance knowledge in the natural and social sciences and engineering, with design of experiments methodology recognized as a key tool in the successful implementation of a **Quality by Design (QbD)** framework.\n",
    "\n",
    "Other applications include marketing and policy making. The study of the design of experiments is an important topic in **$metascience$**."
   ]
  },
  {
   "cell_type": "markdown",
   "metadata": {},
   "source": [
    "**$Metascience$** (also known as meta-research) is the use of scientific methodology to study science itself. Metascience seeks to increase the quality of scientific research while reducing inefficiency. "
   ]
  },
  {
   "cell_type": "markdown",
   "metadata": {},
   "source": [
    "# <a id='toc3_'></a>[Full Factorial Design](#toc0_)"
   ]
  },
  {
   "cell_type": "markdown",
   "metadata": {},
   "source": [
    "### <a id='toc3_1_1_'></a>[Design of Experiments (DoE)](#toc0_)\n",
    "\n",
    "Design of Experiments is a systematic method to determine the relationship between factors affecting a process and the output of that process. In a full factorial design, experiments are conducted at all possible combinations of factor levels. This approach allows for the investigation of the effect of each factor and their interactions on the response variable.\n"
   ]
  },
  {
   "cell_type": "markdown",
   "metadata": {},
   "source": [
    "### <a id='toc3_1_2_'></a>[Example of a Full Factorial Design with ML Integration – Python Code ](#toc0_)"
   ]
  },
  {
   "cell_type": "markdown",
   "metadata": {},
   "source": [
    "**Combining DoE with Machine Learning**\n",
    "\n",
    "By using a full factorial design, we can systematically explore the combinations of feature levels and analyze their effects on the response variable. When combined with machine learning algorithms, this approach can help in:\n",
    "\n",
    "- Identifying significant features.\n",
    "- Understanding feature interactions.\n",
    "- Enhancing model interpretability."
   ]
  },
  {
   "cell_type": "markdown",
   "metadata": {},
   "source": [
    "**Example Overview**\n",
    "\n",
    "We'll create a synthetic dataset with several features (factors), each at different levels. We'll then perform a full factorial design to generate all possible combinations of these feature levels. After that, we'll use a machine learning algorithm (e.g., Random Forest) to model the data and determine feature importance.\n",
    "\n",
    "Steps:\n",
    "1. Define Factors and Levels: Choose features and specify levels for each.\n",
    "2. Generate Full Factorial Design: Create a dataset with all possible combinations.\n",
    "3. Simulate Response Variable: Define a function to simulate the output based on features.\n",
    "4. Split Data: Separate into training and testing sets.\n",
    "5. Train Machine Learning Model: Use a suitable algorithm.\n",
    "6. Feature Selection and Importance: Analyze feature importances from the model."
   ]
  },
  {
   "cell_type": "code",
   "execution_count": 1,
   "metadata": {},
   "outputs": [
    {
     "name": "stdout",
     "output_type": "stream",
     "text": [
      "Full Factorial Design:\n",
      "   A  B  C\n",
      "0 -1 -1 -1\n",
      "1 -1 -1  1\n",
      "2 -1  1 -1\n",
      "3 -1  1  1\n",
      "4  1 -1 -1\n",
      "5  1 -1  1\n",
      "6  1  1 -1\n",
      "7  1  1  1\n",
      "\n",
      "Data with Response Variable:\n",
      "   A  B  C          Y\n",
      "0 -1 -1 -1  -8.133630\n",
      "1 -1 -1  1  -1.076778\n",
      "2 -1  1 -1 -11.062997\n",
      "3 -1  1  1  -1.770429\n",
      "4  1 -1 -1  -0.999560\n",
      "5  1 -1  1  -1.848555\n",
      "6  1  1 -1  14.160243\n",
      "7  1  1  1  11.317887\n",
      "\n",
      "Model Performance on Test Set:\n",
      "MSE: 24.78, R2 Score: -165.40\n",
      "\n",
      "Feature Importances:\n",
      "  Feature  Importance\n",
      "0       A    0.612846\n",
      "1       B    0.219208\n",
      "2       C    0.167947\n"
     ]
    },
    {
     "data": {
      "image/png": "[encoded data removed]",
      "text/plain": [
       "<Figure size 800x600 with 1 Axes>"
      ]
     },
     "metadata": {},
     "output_type": "display_data"
    }
   ],
   "source": [
    "import numpy as np\n",
    "import pandas as pd\n",
    "from itertools import product\n",
    "from sklearn.model_selection import train_test_split\n",
    "from sklearn.ensemble import RandomForestRegressor\n",
    "import matplotlib.pyplot as plt\n",
    "import seaborn as sns\n",
    "\n",
    "# Step 1: Define Factors and Levels\n",
    "# For simplicity, we'll consider three factors/features: A, B, and C\n",
    "# Each factor has two levels: Low (-1) and High (1)\n",
    "\n",
    "factors = {\n",
    "    'A': [-1, 1],\n",
    "    'B': [-1, 1],\n",
    "    'C': [-1, 1]\n",
    "}\n",
    "\n",
    "# Step 2: Generate Full Factorial Design\n",
    "# Create all possible combinations of factor levels\n",
    "\n",
    "factor_levels = list(factors.values())\n",
    "full_factorial_design = pd.DataFrame(list(product(*factor_levels)), columns=factors.keys())\n",
    "\n",
    "print(\"Full Factorial Design:\")\n",
    "print(full_factorial_design)\n",
    "\n",
    "# Step 3: Simulate Response Variable\n",
    "# Define a function that simulates the response variable based on the factors\n",
    "# Include main effects and interaction effects\n",
    "\n",
    "def simulate_response(row):\n",
    "    y = (5 * row['A']) + (3 * row['B']) + (2 * row['C']) \\\n",
    "        + (4 * row['A'] * row['B']) - (2 * row['A'] * row['C']) \\\n",
    "        + np.random.normal(0, 1)  # Adding some noise\n",
    "    return y\n",
    "\n",
    "def calculate_mse(actual, predicted):\n",
    "    \"\"\"\n",
    "    Calculate the Mean Squared Error (MSE)\n",
    "    \n",
    "    :param actual: list of actual values\n",
    "    :param predicted: list of predicted values\n",
    "    :return: MSE\n",
    "    \"\"\"\n",
    "    # Ensure actual and predicted lists have the same length\n",
    "    if len(actual) != len(predicted):\n",
    "        raise ValueError(\"Input lists must have the same length\")\n",
    "    \n",
    "    # Calculate MSE\n",
    "    n = len(actual)\n",
    "    sum_squared_errors = sum([(a - p) ** 2 for a, p in zip(actual, predicted)])\n",
    "    mse = sum_squared_errors / n\n",
    "    return mse\n",
    "\n",
    "full_factorial_design['Y'] = full_factorial_design.apply(simulate_response, axis=1)\n",
    "\n",
    "print(\"\\nData with Response Variable:\")\n",
    "print(full_factorial_design)\n",
    "\n",
    "# Step 4: Split Data into Training and Testing Sets\n",
    "\n",
    "X = full_factorial_design[['A', 'B', 'C']]\n",
    "y = full_factorial_design['Y']\n",
    "\n",
    "X_train, X_test, y_train, y_test = train_test_split(X, y, test_size=0.2, random_state=42)\n",
    "\n",
    "# Step 5: Train Machine Learning Model\n",
    "# Using Random Forest Regressor\n",
    "\n",
    "model = RandomForestRegressor(n_estimators=100, random_state=42)\n",
    "model.fit(X_train, y_train)\n",
    "\n",
    "# Evaluate the model (Optional)\n",
    "from sklearn.metrics import r2_score\n",
    "\n",
    "y_pred = model.predict(X_test)\n",
    "mse = calculate_mse(y_test, y_pred)\n",
    "r2 = r2_score(y_test, y_pred)\n",
    "\n",
    "print(f\"\\nModel Performance on Test Set:\\nMSE: {mse:.2f}, R2 Score: {r2:.2f}\")\n",
    "\n",
    "# Step 6: Feature Selection and Importance\n",
    "\n",
    "feature_importances = pd.DataFrame({\n",
    "    'Feature': X.columns,\n",
    "    'Importance': model.feature_importances_\n",
    "}).sort_values(by='Importance', ascending=False)\n",
    "\n",
    "print(\"\\nFeature Importances:\")\n",
    "print(feature_importances)\n",
    "\n",
    "# Visualize Feature Importances\n",
    "plt.figure(figsize=(8, 6))\n",
    "sns.barplot(x='Importance', y='Feature', data=feature_importances)\n",
    "plt.title('Feature Importances from Random Forest')\n",
    "plt.xlabel('Importance Score')\n",
    "plt.ylabel('Feature')\n",
    "plt.show()\n"
   ]
  },
  {
   "cell_type": "markdown",
   "metadata": {},
   "source": [
    "# <a id='toc2_'></a>[Factorial Experiments: Two Factors](#toc0_)"
   ]
  },
  {
   "cell_type": "markdown",
   "metadata": {},
   "source": [
    "##### Suppose we have two factors/parameters which are  being varied in the experiment\n",
    "- e.g., temperature and altitude (control variable)\n",
    "- e.g., current (response variable)\n",
    "\n",
    "The traditional method is to hold one parameter constant, vary the other parameter, and measure the effect on the response variable.\n",
    "\n",
    "In general, hold all factors constant except for one, take the measurement, and then do this for several levels of this one factor.\n"
   ]
  },
  {
   "cell_type": "markdown",
   "metadata": {},
   "source": [
    "\n",
    "<img src=\"images/Screenshot 2024-10-24 at 12.56.51 PM.png\" width=\"740\" height=\"638\" style=\"display: block; margin-left: auto; margin-right: auto; border-radius: 8px;\" />"
   ]
  },
  {
   "cell_type": "markdown",
   "metadata": {},
   "source": [
    "\n",
    "#### <a id='toc3_1_2_1_'></a>[Alternative Arrangement: Factorial](#toc0_)"
   ]
  },
  {
   "cell_type": "markdown",
   "metadata": {},
   "source": [
    "We can combine each temperature level with each altitude, and then only four experiments are run.\n",
    "\n",
    "- One estimate of temperature effect on current is 30 mA @ 0 m\n",
    "\n",
    "- Another estimate is 20 mA @1000m\n",
    "\n",
    "- Average estimate is 25 mA (Main Effect of B)\n",
    "\n",
    "- The two estimates of altitude effect are  -30  and -40 mA at 25 and 55C, respectively.\n",
    "\n",
    "- The average estimate is -35 mA (Main Effect of A)\n",
    "\n",
    "**Hence, with just four observations valid comparisons have been made for both temp and altitude**\n"
   ]
  },
  {
   "cell_type": "markdown",
   "metadata": {},
   "source": [
    "\n",
    "<img src=\"images/Screenshot 2024-10-24 at 1.03.02 PM.png\" width=\"640\" height=\"526\" style=\"display: block; margin-left: auto; margin-right: auto; border-radius: 8px;\" />"
   ]
  },
  {
   "cell_type": "markdown",
   "metadata": {},
   "source": [
    "### <a id='toc3_1_2_'></a>[DOE Advantages](#toc0_)\n",
    "\n",
    "- **More efficiency than with one factor at a time experiments**\n",
    "\n",
    "- **All data are used in computing both effects**\n",
    "\n",
    "- **Some information is gleaned on possible interactions between two factors (e.g., the increase of 20mA @ 1K was roughly the same magnitude of 30mA @ 0K. If these increases had differed considerably, an interaction might be present)**\n",
    "\n",
    "- **These advantages will be more pronounced as the number of levels of the two factors is increased**\n"
   ]
  },
  {
   "cell_type": "markdown",
   "metadata": {},
   "source": [
    "- A factorial experiment is one in which all levels of a given factor are combined with all levels of every other factor in the experiment.\n",
    "\n",
    "or\n",
    "\n",
    "- in each complete trial or replication of the experiment all possible combinations of the levels of the factors are investigated.\n",
    "\n",
    "- For example, if there exist “a” levels of factor A and “b” levels for factor B, then each replicate contains all “ab” treatment combinations.\n",
    "\n",
    "By a Factorial Experiment we mean that in each complete trial or replicate of the experiment all possible combinations of the levels of the factors are investigation\n"
   ]
  },
  {
   "cell_type": "markdown",
   "metadata": {},
   "source": [
    "### <a id='toc3_1_2_'></a>[Interactions between Factors](#toc0_)\n",
    "\n",
    "- To indicate an interaction between factors A and B, graphs are useful in interpreting significant interactions and reporting result to an upper-level manager who may not fully understand statistics.\n",
    "\n",
    "- The solid curves on the right would indicate no interaction between factors A and B\n",
    "\n",
    "- An interaction would occur if the two lines cross as factor A is increased from (1) to (2) – Red Dash line with solid black line\n"
   ]
  },
  {
   "cell_type": "markdown",
   "metadata": {},
   "source": [
    "\n",
    "<img src=\"images/Screenshot 2024-10-25 at 10.15.12 AM.png\" width=\"740\" height=\"690\" style=\"display: block; margin-left: auto; margin-right: auto; border-radius: 8px;\" />"
   ]
  },
  {
   "cell_type": "markdown",
   "metadata": {},
   "source": [
    "\n",
    "<img src=\"images/Screenshot 2024-10-25 at 10.15.33 AM.png\" width=\"940\" height=\"763\" style=\"display: block; margin-left: auto; margin-right: auto; border-radius: 8px;\" />"
   ]
  },
  {
   "cell_type": "markdown",
   "metadata": {},
   "source": [
    "- **The effect of a factor is defined as the change in response by a change in the level of the factor.**\n",
    "- **Its is called a “main effect” because it refers to the primary factors in the study; lets consider the data in the following table above**\n",
    "\n",
    "\n",
    "In a **_\"factorial design\"_**, the effects of varying the levels of the various factors affecting the process output is investigated. Each complete trial or replication of the experiment takes into account all the possible combinations of the varying levels of these factors.\n",
    "\n",
    "Effective factorial design ensures that the least number of experiment runs are conducted to generate the maximum amount of information about how input variables affect the output of a process.\n",
    "\n",
    "For instance, if the effects of two factors A and B on the output of a process are investigated, and A has 3 levels of intensity (e.g., weak, moderate, and strong presence) while B has 2 levels (weak and strong), then one would need to run 6 treatment combinations to complete the experiment, observing the process output for each of the combinations:\n",
    "\n",
    " 1)weak(A)-weak(B),2)weak(A)-strong(B),3)moderate(A)-weak(B), 4)moderate(A)-strong(B), 5)strong(A)-weak(B),6) strong(A)-strong(B).\n"
   ]
  },
  {
   "cell_type": "markdown",
   "metadata": {},
   "source": [
    "The amount of change produced in the process output for a change in the **_'level'_** of a given factor is referred to as the **_'main effect'_** of that factor. Table 1 shows an example of a simple factorial experiment involving two factors with two levels each.\n",
    "\n",
    "The two levels of each factor may be denoted as 'low' and 'high', which are usually symbolized by '-' and '+' in factorial designs, respectively.\n",
    "\n",
    "\n",
    "<img src=\"images/Screenshot 2024-10-25 at 10.25.49 AM.png\" width=\"740\" height=\"468\" style=\"display: block; margin-left: auto; margin-right: auto; border-radius: 8px;\" />"
   ]
  }
 ],
 "metadata": {
  "kernelspec": {
   "display_name": "base",
   "language": "python",
   "name": "python3"
  },
  "language_info": {
   "codemirror_mode": {
    "name": "ipython",
    "version": 3
   },
   "file_extension": ".py",
   "mimetype": "text/x-python",
   "name": "python",
   "nbconvert_exporter": "python",
   "pygments_lexer": "ipython3",
   "version": "3.11.7"
  }
 },
 "nbformat": 4,
 "nbformat_minor": 2
}
