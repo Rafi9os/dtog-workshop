{
 "cells": [
  {
   "cell_type": "markdown",
   "metadata": {},
   "source": [
    "<h1 style=\"text-align: center; color: Blue; font-family: verdana; font-size: 40px;\">ASME DTOG: Introduction - Design of Experiments (DOE)</h1>"
   ]
  },
  {
   "cell_type": "markdown",
   "metadata": {},
   "source": [
    "**Table of contents**<a id='toc0_'></a>    \n",
    "- [Introduction](#toc1_)    \n",
    "- [Design of Experiments](#toc2_)    \n",
    "      - [Definition](#toc2_1_1_1_)    \n",
    "- [Full Factorial Design](#toc3_)    \n",
    "    - [Design of Experiments (DoE)](#toc3_1_1_)    \n",
    "    - [Example of a Full Factorial Design with ML Integration – Python Code ](#toc3_1_2_)    \n",
    "- [Factorial Experiments: Two Factors](#toc4_)    \n",
    "        - [Suppose we have two factors/parameters which are  being varied in the experiment](#toc4_1_1_1_1_)    \n",
    "      - [Alternative Arrangement: Factorial](#toc4_1_1_2_)    \n",
    "    - [DOE Advantages](#toc4_1_2_)    \n",
    "    - [Interactions between Factors](#toc4_1_3_)    \n",
    "    - [2k Factorial Experiments](#toc4_1_4_)    \n",
    "    - [Factorial – 2k ](#toc4_1_5_)    \n",
    "    - [Example](#toc4_1_6_)    \n",
    "    - [Main and Interactive Effects](#toc4_1_7_)    \n",
    "    - [Yates Order](#toc4_1_8_)    \n",
    "    - [Matrix Rules](#toc4_1_9_)    \n",
    "    - [Example Factorial Experiments](#toc4_1_10_)    \n",
    "\n",
    "<!-- vscode-jupyter-toc-config\n",
    "\tnumbering=false\n",
    "\tanchor=true\n",
    "\tflat=false\n",
    "\tminLevel=1\n",
    "\tmaxLevel=6\n",
    "\t/vscode-jupyter-toc-config -->\n",
    "<!-- THIS CELL WILL BE REPLACED ON TOC UPDATE. DO NOT WRITE YOUR TEXT IN THIS CELL -->"
   ]
  },
  {
   "cell_type": "markdown",
   "metadata": {},
   "source": [
    "# <a id='toc1_'></a>[Introduction](#toc0_)"
   ]
  },
  {
   "cell_type": "markdown",
   "metadata": {},
   "source": [
    "**Design of Experiments**\n",
    "\n",
    "The goal of DOE simulations is to make predictions concerning the response of physical systems to various kinds of excitation, and based on those predictions, make informed decisions.\n",
    "\n",
    "Mathematical models are an idealization of reality and should never be confused with the physical reality that they are supposed to represent.\n",
    "\n",
    "The choice of a mathematical model depends on its intended use:\n",
    "    What aspects of the physical reality are of interest?\n",
    "    What data must be predicted?\n",
    "    What accuracy is required?\n",
    "\n",
    "What is very important: there exist errors associated with the mathematical model and some errors are associated with its data driven solutions. These are errors of “Level of Confidence (e.g., 95%) & # Experiments Runs”(DOE) and errors (MAE, RMSE) of “training” set for ML/AI.\n"
   ]
  },
  {
   "cell_type": "markdown",
   "metadata": {},
   "source": [
    "# <a id='toc2_'></a>[Design of Experiments](#toc0_)\n",
    "\n",
    "<span style=\"color:red\"><b>_The Design of Experiments, also known as experiment design or experimental design, is the design of any task that aims to describe and explain the variation of information under conditions that are hypothesized to reflect the variation._</b></span>\n",
    "\n",
    "#### <a id='toc2_1_1_1_'></a>[Definition](#toc0_)\n",
    "\n",
    "**Design of Experiments (DoE)**\n",
    "\n",
    "Design of Experiments is a systematic method to determine the relationship between factors affecting a process and the output of that process. In a full factorial design, experiments are conducted at all possible combinations of factor levels. This approach allows for the investigation of the effect of each factor and their interactions on the response variable.\n",
    "\n",
    "\n",
    "The term is generally associated with experiments in which the design introduces conditions that directly affect the variation, but may also refer to the design of quasi-experiments, in which natural conditions that influence the variation are selected for observation.\n",
    "\n",
    "In its simplest form, an experiment aims at predicting the outcome by introducing a change of the preconditions, which is represented by one or more independent variables, also referred to as \"input variables\" or \"predictor variables.\" The change in one or more independent variables is generally hypothesized to result in a change in one or more dependent variables, also referred to as \"output variables\" or \"response variables."
   ]
  },
  {
   "cell_type": "markdown",
   "metadata": {},
   "source": [
    "Main concerns in experimental design include the establishment of validity, reliability, and replicability.\n",
    "- For example, these concerns can be partially addressed by carefully choosing the independent variable, reducing the risk of measurement error, and ensuring that the documentation of the method is sufficiently detailed.\n",
    "- Related concerns include achieving appropriate levels of statistical power and sensitivity."
   ]
  },
  {
   "cell_type": "markdown",
   "metadata": {},
   "source": [
    "Correctly designed experiments advance knowledge in the natural and social sciences and engineering, with design of experiments methodology recognized as a key tool in the successful implementation of a **Quality by Design (QbD)** framework.\n",
    "\n",
    "Other applications include marketing and policy making. The study of the design of experiments is an important topic in **$metascience$**."
   ]
  },
  {
   "cell_type": "markdown",
   "metadata": {},
   "source": [
    "**$Metascience$** (also known as meta-research) is the use of scientific methodology to study science itself. Metascience seeks to increase the quality of scientific research while reducing inefficiency. "
   ]
  },
  {
   "cell_type": "markdown",
   "metadata": {},
   "source": [
    "# <a id='toc3_'></a>[Full Factorial Design](#toc0_)"
   ]
  },
  {
   "cell_type": "markdown",
   "metadata": {},
   "source": [
    "### <a id='toc3_1_1_'></a>[Design of Experiments (DoE)](#toc0_)\n",
    "\n",
    "Design of Experiments is a systematic method to determine the relationship between factors affecting a process and the output of that process. In a full factorial design, experiments are conducted at all possible combinations of factor levels. This approach allows for the investigation of the effect of each factor and their interactions on the response variable.\n"
   ]
  },
  {
   "cell_type": "markdown",
   "metadata": {},
   "source": [
    "### <a id='toc3_1_2_'></a>[Example of a Full Factorial Design with ML Integration – Python Code ](#toc0_)"
   ]
  },
  {
   "cell_type": "markdown",
   "metadata": {},
   "source": [
    "**Combining DoE with Machine Learning**\n",
    "\n",
    "By using a full factorial design, we can systematically explore the combinations of feature levels and analyze their effects on the response variable. When combined with machine learning algorithms, this approach can help in:\n",
    "\n",
    "- Identifying significant features.\n",
    "- Understanding feature interactions.\n",
    "- Enhancing model interpretability."
   ]
  },
  {
   "cell_type": "markdown",
   "metadata": {},
   "source": [
    "**Example Overview**\n",
    "\n",
    "We'll create a synthetic dataset with several features (factors), each at different levels. We'll then perform a full factorial design to generate all possible combinations of these feature levels. After that, we'll use a machine learning algorithm (e.g., Random Forest) to model the data and determine feature importance.\n",
    "\n",
    "Steps:\n",
    "1. Define Factors and Levels: Choose features and specify levels for each.\n",
    "2. Generate Full Factorial Design: Create a dataset with all possible combinations.\n",
    "3. Simulate Response Variable: Define a function to simulate the output based on features.\n",
    "4. Split Data: Separate into training and testing sets.\n",
    "5. Train Machine Learning Model: Use a suitable algorithm.\n",
    "6. Feature Selection and Importance: Analyze feature importances from the model."
   ]
  },
  {
   "cell_type": "code",
   "execution_count": 1,
   "metadata": {},
   "outputs": [
    {
     "name": "stdout",
     "output_type": "stream",
     "text": [
      "Full Factorial Design:\n",
      "   A  B  C\n",
      "0 -1 -1 -1\n",
      "1 -1 -1  1\n",
      "2 -1  1 -1\n",
      "3 -1  1  1\n",
      "4  1 -1 -1\n",
      "5  1 -1  1\n",
      "6  1  1 -1\n",
      "7  1  1  1\n",
      "\n",
      "Data with Response Variable:\n",
      "   A  B  C          Y\n",
      "0 -1 -1 -1  -7.704988\n",
      "1 -1 -1  1   0.225793\n",
      "2 -1  1 -1 -10.003817\n",
      "3 -1  1  1  -1.115324\n",
      "4  1 -1 -1  -1.018255\n",
      "5  1 -1  1  -1.612206\n",
      "6  1  1 -1  11.415996\n",
      "7  1  1  1  13.814932\n",
      "\n",
      "Model Performance on Test Set:\n",
      "MSE: 32.00, R2 Score: -36.89\n",
      "\n",
      "Feature Importances:\n",
      "  Feature  Importance\n",
      "0       A    0.603013\n",
      "1       B    0.212678\n",
      "2       C    0.184309\n"
     ]
    },
    {
     "data": {
      "image/png": "[encoded data removed]",
      "text/plain": [
       "<Figure size 800x600 with 1 Axes>"
      ]
     },
     "metadata": {},
     "output_type": "display_data"
    }
   ],
   "source": [
    "import numpy as np\n",
    "import pandas as pd\n",
    "from itertools import product\n",
    "from sklearn.model_selection import train_test_split\n",
    "from sklearn.ensemble import RandomForestRegressor\n",
    "import matplotlib.pyplot as plt\n",
    "import seaborn as sns\n",
    "\n",
    "# Step 1: Define Factors and Levels\n",
    "# For simplicity, we'll consider three factors/features: A, B, and C\n",
    "# Each factor has two levels: Low (-1) and High (1)\n",
    "\n",
    "factors = {\n",
    "    'A': [-1, 1],\n",
    "    'B': [-1, 1],\n",
    "    'C': [-1, 1]\n",
    "}\n",
    "\n",
    "# Step 2: Generate Full Factorial Design\n",
    "# Create all possible combinations of factor levels\n",
    "\n",
    "factor_levels = list(factors.values())\n",
    "full_factorial_design = pd.DataFrame(list(product(*factor_levels)), columns=factors.keys())\n",
    "\n",
    "print(\"Full Factorial Design:\")\n",
    "print(full_factorial_design)\n",
    "\n",
    "# Step 3: Simulate Response Variable\n",
    "# Define a function that simulates the response variable based on the factors\n",
    "# Include main effects and interaction effects\n",
    "\n",
    "def simulate_response(row):\n",
    "    y = (5 * row['A']) + (3 * row['B']) + (2 * row['C']) \\\n",
    "        + (4 * row['A'] * row['B']) - (2 * row['A'] * row['C']) \\\n",
    "        + np.random.normal(0, 1)  # Adding some noise\n",
    "    return y\n",
    "\n",
    "def calculate_mse(actual, predicted):\n",
    "    \"\"\"\n",
    "    Calculate the Mean Squared Error (MSE)\n",
    "    \n",
    "    :param actual: list of actual values\n",
    "    :param predicted: list of predicted values\n",
    "    :return: MSE\n",
    "    \"\"\"\n",
    "    # Ensure actual and predicted lists have the same length\n",
    "    if len(actual) != len(predicted):\n",
    "        raise ValueError(\"Input lists must have the same length\")\n",
    "    \n",
    "    # Calculate MSE\n",
    "    n = len(actual)\n",
    "    sum_squared_errors = sum([(a - p) ** 2 for a, p in zip(actual, predicted)])\n",
    "    mse = sum_squared_errors / n\n",
    "    return mse\n",
    "\n",
    "full_factorial_design['Y'] = full_factorial_design.apply(simulate_response, axis=1)\n",
    "\n",
    "print(\"\\nData with Response Variable:\")\n",
    "print(full_factorial_design)\n",
    "\n",
    "# Step 4: Split Data into Training and Testing Sets\n",
    "\n",
    "X = full_factorial_design[['A', 'B', 'C']]\n",
    "y = full_factorial_design['Y']\n",
    "\n",
    "X_train, X_test, y_train, y_test = train_test_split(X, y, test_size=0.2, random_state=42)\n",
    "\n",
    "# Step 5: Train Machine Learning Model\n",
    "# Using Random Forest Regressor\n",
    "\n",
    "model = RandomForestRegressor(n_estimators=100, random_state=42)\n",
    "model.fit(X_train, y_train)\n",
    "\n",
    "# Evaluate the model (Optional)\n",
    "from sklearn.metrics import r2_score\n",
    "\n",
    "y_pred = model.predict(X_test)\n",
    "mse = calculate_mse(y_test, y_pred)\n",
    "r2 = r2_score(y_test, y_pred)\n",
    "\n",
    "print(f\"\\nModel Performance on Test Set:\\nMSE: {mse:.2f}, R2 Score: {r2:.2f}\")\n",
    "\n",
    "# Step 6: Feature Selection and Importance\n",
    "\n",
    "feature_importances = pd.DataFrame({\n",
    "    'Feature': X.columns,\n",
    "    'Importance': model.feature_importances_\n",
    "}).sort_values(by='Importance', ascending=False)\n",
    "\n",
    "print(\"\\nFeature Importances:\")\n",
    "print(feature_importances)\n",
    "\n",
    "# Visualize Feature Importances\n",
    "plt.figure(figsize=(8, 6))\n",
    "sns.barplot(x='Importance', y='Feature', data=feature_importances)\n",
    "plt.title('Feature Importances from Random Forest')\n",
    "plt.xlabel('Importance Score')\n",
    "plt.ylabel('Feature')\n",
    "plt.show()\n"
   ]
  },
  {
   "cell_type": "markdown",
   "metadata": {},
   "source": [
    "# <a id='toc4_'></a>[Factorial Experiments: Two Factors](#toc0_)"
   ]
  },
  {
   "cell_type": "markdown",
   "metadata": {},
   "source": [
    "##### <a id='toc4_1_1_1_1_'></a>[Suppose we have two factors/parameters which are  being varied in the experiment](#toc0_)\n",
    "- e.g., temperature and altitude (control variable)\n",
    "- e.g., current (response variable)\n",
    "\n",
    "The traditional method is to hold one parameter constant, vary the other parameter, and measure the effect on the response variable.\n",
    "\n",
    "In general, hold all factors constant except for one, take the measurement, and then do this for several levels of this one factor.\n"
   ]
  },
  {
   "cell_type": "markdown",
   "metadata": {},
   "source": [
    "\n",
    "<img src=\"images/Screenshot 2024-10-24 at 12.56.51 PM.png\" width=\"340\" height=\"238\" style=\"display: block; margin-left: auto; margin-right: auto; border-radius: 8px;\" />"
   ]
  },
  {
   "cell_type": "markdown",
   "metadata": {},
   "source": [
    "\n",
    "#### <a id='toc4_1_1_2_'></a>[Alternative Arrangement: Factorial](#toc0_)"
   ]
  },
  {
   "cell_type": "markdown",
   "metadata": {},
   "source": [
    "We can combine each temperature level with each altitude, and then only four experiments are run.\n",
    "\n",
    "- One estimate of temperature effect on current is 30 mA @ 0 m\n",
    "\n",
    "- Another estimate is 20 mA @1000m\n",
    "\n",
    "- Average estimate is 25 mA (Main Effect of B)\n",
    "\n",
    "- The two estimates of altitude effect are  -30  and -40 mA at 25 and 55C, respectively.\n",
    "\n",
    "- The average estimate is -35 mA (Main Effect of A)\n",
    "\n",
    "**Hence, with just four observations valid comparisons have been made for both temp and altitude**\n"
   ]
  },
  {
   "cell_type": "markdown",
   "metadata": {},
   "source": [
    "\n",
    "<img src=\"images/Screenshot 2024-10-24 at 1.03.02 PM.png\" width=\"340\" height=\"326\" style=\"display: block; margin-left: auto; margin-right: auto; border-radius: 8px;\" />"
   ]
  },
  {
   "cell_type": "markdown",
   "metadata": {},
   "source": [
    "### <a id='toc4_1_2_'></a>[DOE Advantages](#toc0_)\n",
    "\n",
    "- **More efficiency than with one factor at a time experiments**\n",
    "\n",
    "- **All data are used in computing both effects**\n",
    "\n",
    "- **Some information is gleaned on possible interactions between two factors (e.g., the increase of 20mA @ 1K was roughly the same magnitude of 30mA @ 0K. If these increases had differed considerably, an interaction might be present)**\n",
    "\n",
    "- **These advantages will be more pronounced as the number of levels of the two factors is increased**\n"
   ]
  },
  {
   "cell_type": "markdown",
   "metadata": {},
   "source": [
    "- A factorial experiment is one in which all levels of a given factor are combined with all levels of every other factor in the experiment.\n",
    "\n",
    "or\n",
    "\n",
    "- in each complete trial or replication of the experiment all possible combinations of the levels of the factors are investigated.\n",
    "\n",
    "- For example, if there exist “a” levels of factor A and “b” levels for factor B, then each replicate contains all “ab” treatment combinations.\n",
    "\n",
    "By a Factorial Experiment we mean that in each complete trial or replicate of the experiment all possible combinations of the levels of the factors are investigation\n"
   ]
  },
  {
   "cell_type": "markdown",
   "metadata": {},
   "source": [
    "### <a id='toc4_1_3_'></a>[Interactions between Factors](#toc0_)\n",
    "\n",
    "- To indicate an interaction between factors A and B, graphs are useful in interpreting significant interactions and reporting result to an upper-level manager who may not fully understand statistics.\n",
    "\n",
    "- The solid curves on the right would indicate no interaction between factors A and B\n",
    "\n",
    "- An interaction would occur if the two lines cross as factor A is increased from (1) to (2) – Red Dash line with solid black line\n"
   ]
  },
  {
   "cell_type": "markdown",
   "metadata": {},
   "source": [
    "\n",
    "<img src=\"images/Screenshot 2024-10-25 at 10.15.12 AM.png\" width=\"340\" height=\"390\" style=\"display: block; margin-left: auto; margin-right: auto; border-radius: 8px;\" />\n"
   ]
  },
  {
   "cell_type": "markdown",
   "metadata": {},
   "source": [
    "<img src=\"images/Screenshot 2024-10-25 at 10.15.33 AM_1.png\" width=\"440\" height=\"263\" style=\"display: block; margin-left: auto; margin-right: auto; border-radius: 8px;\" />"
   ]
  },
  {
   "cell_type": "markdown",
   "metadata": {},
   "source": [
    "- **The effect of a factor is defined as the change in response by a change in the level of the factor.**\n",
    "- **Its is called a “main effect” because it refers to the primary factors in the study; lets consider the data in the following table above**\n",
    "\n",
    "\n",
    "In a **_\"factorial design\"_**, the effects of varying the levels of the various factors affecting the process output is investigated. Each complete trial or replication of the experiment takes into account all the possible combinations of the varying levels of these factors.\n",
    "\n",
    "Effective factorial design ensures that the least number of experiment runs are conducted to generate the maximum amount of information about how input variables affect the output of a process.\n",
    "\n",
    "For instance, if the effects of two factors A and B on the output of a process are investigated, and A has 3 levels of intensity (e.g., weak, moderate, and strong presence) while B has 2 levels (weak and strong), then one would need to run 6 treatment combinations to complete the experiment, observing the process output for each of the combinations:\n",
    "\n",
    " 1)weak(A)-weak(B),2)weak(A)-strong(B),3)moderate(A)-weak(B), 4)moderate(A)-strong(B), 5)strong(A)-weak(B),6) strong(A)-strong(B).\n"
   ]
  },
  {
   "cell_type": "markdown",
   "metadata": {},
   "source": [
    "The amount of change produced in the process output for a change in the **_'level'_** of a given factor is referred to as the **_'main effect'_** of that factor. Table 1 shows an example of a simple factorial experiment involving two factors with two levels each.\n",
    "\n",
    "The two levels of each factor may be denoted as 'low' and 'high', which are usually symbolized by '-' and '+' in factorial designs, respectively.\n"
   ]
  },
  {
   "cell_type": "markdown",
   "metadata": {},
   "source": [
    "\n",
    "<img src=\"images/Screenshot 2024-10-25 at 10.25.49 AM.png\" width=\"440\" height=\"268\" style=\"display: block; margin-left: auto; margin-right: auto; border-radius: 8px;\" />"
   ]
  },
  {
   "cell_type": "markdown",
   "metadata": {},
   "source": [
    "### <a id='toc4_1_4_'></a>[$2^k$ Factorial Experiments](#toc0_)\n",
    "                       \n",
    "A frequently used factorial experiment design in the semiconductor industry is known as the **2k factorial design**, which is basically an experiment involving k factors, each of which has two levels ('low' and 'high').\n",
    "\n",
    "In such a multi-factor two-level experiment, the number of treatment combinations needed to get complete results is equal to 2k. Thus, a 2k factorial experiment that deals with 3 factors would require 8 treatment combination, while one that deals with 4 factors would require 16 of them.\n",
    "\n",
    "One can easily see that the number of runs needed to complete a factorial experiment, even if only two levels are explored for each factor, can become very large.\n",
    "\n",
    "The first objective of a factorial experiment is to be able to determine, or at least estimate, the main factor effects, which indicate how each factor affects the process output.\n",
    "\n",
    "Factor effects need to be understood so that the factors can be adjusted to optimize the process output.  \n",
    "    \n",
    "- The effect of each factor on the output can be due to it alone (a main effect of the factor), or a result of the interaction between the factor and one or more of the other factors (interactive effects).\n",
    "\n",
    "- When assessing factor effects (whether main or interactive effects), one needs to consider not only the magnitudes of the effects, but their directions as well.  The direction of an effect determines the direction in which the factors need to be adjusted in a process in order to optimize the process output.\n"
   ]
  },
  {
   "cell_type": "markdown",
   "metadata": {},
   "source": [
    "### <a id='toc4_1_5_'></a>[Factorial – $2^k$ ](#toc0_)\n",
    "\n",
    "In factorial designs, the main effects are referred to using single uppercase letters, e.g., the main effects of factors A and B are referred to simply as 'A' and 'B', respectively.\n",
    "\n",
    "An interactive effect, on the other hand, is referred to by a group of letters denoting which factors are interacting to produce the effect, e.g., the interactive effect produced by factors A and B is referred to as 'AB'.  \n",
    "\n",
    "Each treatment combination in the experiment is denoted by the lower-case letter(s) of the factor(s) that are at 'high' level (or '+' level). Thus, in a 2-factorial experiment, the treatment combinations are:\n",
    "\n",
    "1) 'a' for the combination wherein factor A = 'high' and \t\t    factor B = 'low';\n",
    "2) 'b' for factor A = 'low' and factor B = 'high';\n",
    "3) 'ab' for the combination wherein both A and B = 'high’;\n",
    "4) '(1)', which denotes the treatment combination wherein both factors A and B are 'low'.\n"
   ]
  },
  {
   "cell_type": "markdown",
   "metadata": {},
   "source": [
    "The magnitude and polarity (or direction) of the numerical values of main and interaction effects indicate how these effects influence the process output.\n",
    "\n",
    "A higher absolute value for an effect means that the factor responsible for it affects the output significantly.\n",
    "A negative value means that increasing the level(s) of the factor(s) responsible for that effect will decrease the output of the process.\n",
    "\n",
    "           \n",
    "In a $2^2$ factorial experiment wherein n replicates were run for each combination treatment, the main and interactive effects of A and B on the output may be mathematically expressed as follows:\n"
   ]
  },
  {
   "cell_type": "markdown",
   "metadata": {},
   "source": [
    "A = [ab + a - b - (1)] / $n2^{k-1}$;   (main effect of factor A)\n",
    "\n",
    "B = [ab + b - a - (1)] / $n2^{k-1}$;   (main effect of factor B)\n",
    "\n",
    "AB = [ab + (1) - a - b] / $n2^{k-1}$;   (interactive effect of factors A and B)\n",
    "\n",
    "where **n** is the number of replicates per treatment combination;\n",
    "\n",
    "- a: is the total of the outputs of each of the n replicates of the \t    \t    treatment combination a (A is 'high and B is 'low);\n",
    "\n",
    "- b: is the total output for the n replicates of the treatment \t   \t    \t    combination b (B is 'high' and A is 'low);\n",
    "\n",
    "- ab: is the total output for the n replicates of the treatment \t      \t      combination ab (both A and B are 'high’);\n",
    "\n",
    "- (1): is the total output for the n replicates of the treatment \t\t      combination --- (1) (both A and B are 'low) → Identity Column\n"
   ]
  },
  {
   "cell_type": "markdown",
   "metadata": {},
   "source": [
    "The analysis of factor effects in the conduct of $2^k$ factorial experiments requires a lot of number crunching (even if only two levels per factor are considered in such experiments), especially if the number of factors being investigated is high. Fortunately, there's a systematic method for doing the required math in the analysis of factor effects.\n",
    "\n",
    "### <a id='toc4_1_6_'></a>[Example](#toc0_)\n",
    "\n",
    "The main and interactive effects of A and B in a $2^2$; k=2 factorial experiment involving n replicates are given as follows:\n",
    "- A = [ab + a - b - (1)] / 2n\n",
    "- B = [ab + b - a - (1)] / 2n\n",
    "- AB = [ab + (1) - a - b] / 2n\n",
    "\n",
    "Note that each of these formulas involves a 'contrast', or a special linear combination of parameters whose coefficients equal zero. \n",
    "\n",
    "For instance, the contrast for A is ab+a-b-1 while the contrast for B is ab+b-a-1. \n"
   ]
  },
  {
   "cell_type": "markdown",
   "metadata": {},
   "source": [
    "### <a id='toc4_1_7_'></a>[Main and Interactive Effects](#toc0_)\n",
    "\n",
    "The main and interactive effects of A and B in a $2^2$ factorial experiment involving n replicates were given as follows:\n",
    "\n",
    "- A = [ab + a - b - (1)] / 2n\n",
    "\n",
    "- B = [ab + b - a - (1)] / 2n\n",
    "\n",
    "- AB = [ab + (1) - a - b] / 2n\n",
    "\n",
    "\n",
    "The coefficients of A's contrast are -1, +1, -1,and +1 if the contrast were written in what is known as Yates' Order, i.e., (1), a, b, ab. \n",
    "\n",
    "Furthermore, in Yates order, the coefficients of B's contrast are -1, -1, +1, +1 while those of AB's contrast are +1, -1, -1, +1.\n",
    "\n",
    "The significance of Yates' Order (also known as the 'Standard Order') is that it facilitates the determination of the algebraic signs of the coefficients needed for calculating the main and interaction effects of each factor in a factorial experiment.  "
   ]
  },
  {
   "cell_type": "markdown",
   "metadata": {},
   "source": [
    "### <a id='toc4_1_8_'></a>[Yates Order](#toc0_)\n",
    "One can easily compute for the numerical values of factor effects if one knows the formulas to use and the output of each replicate for each combination treatment of the factorial experiment.\n",
    "\n",
    "Unfortunately, the formulas look daunting to people not accustomed to them. There is, however, an easy way to reconstruct these formulas using Yates Order.\n",
    "\n",
    "\n",
    "- 2 factors: (1), a, b, ab;\n",
    "\n",
    "- 3 factors: (1), a, b, ab, c, ac, bc, abc\n",
    "\n",
    "- 4 factors: (1), a, b, ab, c, ac, bc, abc, d, ad, bd, abd, cd, acd, bcd, abcd\n"
   ]
  },
  {
   "cell_type": "markdown",
   "metadata": {},
   "source": [
    "### <a id='toc4_1_9_'></a>[Matrix Rules](#toc0_)\n",
    "\n",
    "1) The first rule for filling the matrix with '+' and '-' signs is this: treatment combinations wherein the factor in the column being filled is 'high' will get a '+' sign.\n",
    "\n",
    "On the other hand, treatment combinations wherein that factor is 'low' will get a '-' sign. \n",
    "\n",
    "2) The second rule is: for interaction factors, the signs of their individual factors simply need to be multiplied for each treatment.\n",
    "\n",
    "3) Lastly, the 'identity‘, I, column (wherein all factors are ‘low') gets a '+' sign for all combination treatments.\n",
    "\n",
    "Once the matrix is finished, it can be used to look up the algebraic signs of the coefficients of each term in the contrast of each factor, allowing reconstruction of its 'effect' formula.  \n"
   ]
  },
  {
   "cell_type": "markdown",
   "metadata": {},
   "source": [
    "\n",
    "<img src=\"images/Screenshot 2024-11-05 at 11.50.05 AM.png\" width=\"440\" height=\"295\" style=\"display: block; margin-left: auto; margin-right: auto; border-radius: 8px;\" />"
   ]
  },
  {
   "cell_type": "markdown",
   "metadata": {},
   "source": [
    "\n",
    "<img src=\"images/Screenshot 2024-11-05 at 2.44.55 PM.png\" width=\"540\" height=\"464\" style=\"display: block; margin-left: auto; margin-right: auto; border-radius: 8px;\" />"
   ]
  },
  {
   "cell_type": "markdown",
   "metadata": {},
   "source": [
    "\n",
    "<img src=\"images/Screenshot 2024-11-05 at 2.45.09 PM.png\" width=\"440\" height=\"367\" style=\"display: block; margin-left: auto; margin-right: auto; border-radius: 8px;\" />"
   ]
  },
  {
   "cell_type": "markdown",
   "metadata": {},
   "source": [
    "\n",
    "<img src=\"images/Screenshot 2024-11-05 at 2.45.48 PM.png\" width=\"540\" height=\"414\" style=\"display: block; margin-left: auto; margin-right: auto; border-radius: 8px;\" />"
   ]
  },
  {
   "cell_type": "markdown",
   "metadata": {},
   "source": [
    "### <a id='toc4_1_10_'></a>[Example Factorial Experiments](#toc0_)"
   ]
  },
  {
   "cell_type": "markdown",
   "metadata": {},
   "source": []
  }
 ],
 "metadata": {
  "kernelspec": {
   "display_name": "base",
   "language": "python",
   "name": "python3"
  },
  "language_info": {
   "codemirror_mode": {
    "name": "ipython",
    "version": 3
   },
   "file_extension": ".py",
   "mimetype": "text/x-python",
   "name": "python",
   "nbconvert_exporter": "python",
   "pygments_lexer": "ipython3",
   "version": "3.11.7"
  }
 },
 "nbformat": 4,
 "nbformat_minor": 2
}
