{
 "cells": [
  {
   "cell_type": "markdown",
   "metadata": {},
   "source": [
    "<h1 style=\"text-align: center; color: Blue; font-family: verdana; font-size: 40px;\">ASME DTOG: Introduction - Design of Experiments (DOE)</h1>"
   ]
  },
  {
   "cell_type": "markdown",
   "metadata": {},
   "source": [
    "**Table of contents**<a id='toc0_'></a>    \n",
    "- [Introduction](#toc1_)    \n",
    "- [Design of Experiments](#toc2_)    \n",
    "      - [Definition](#toc2_1_1_1_)    \n",
    "- [Full Factorial Design](#toc3_)    \n",
    "    - [Fundamental Concepts](#toc3_1_1_)    \n",
    "    - [Example of a Full Factorial Design – JMP Software](#toc3_1_2_)    \n",
    "      - [Five-Factor Full Factorial](#toc3_1_2_1_)    \n",
    "      - [ Constructing a Five-Factor Full Factorial](#toc3_1_2_2_)    \n",
    "      - [ Constructing a Five-Factor Full Factorial Table](#toc3_1_2_3_)    \n",
    "      - [ Analyzing the Five-Factor Full Factorial](#toc3_1_2_4_)    \n",
    "      - [ Screening for Significant Factors for a Five-Factor Full Factorial](#toc3_1_2_5_)    \n",
    "        - [**Screening Analysis: Contrast values, t-ratio values, p-values**](#toc3_1_2_5_1_)    \n",
    "      - [ Half Normal Plot for Main Factors a Five-Factor Full Factorial](#toc3_1_2_6_)    \n",
    "      - [ Model Construction for a Five-Factor Full Factorial](#toc3_1_2_7_)    \n",
    "      - [ Response Results Five-Factor Full Factorial](#toc3_1_2_8_)    \n",
    "      - [ Predictor and Profiler Five-Factor Full Factorial](#toc3_1_2_9_)    \n",
    "    - [Now, find optimal settings for the three active factors involved in the five significant effects that you retained in your model.](#toc3_1_3_)    \n",
    "\n",
    "<!-- vscode-jupyter-toc-config\n",
    "\tnumbering=false\n",
    "\tanchor=true\n",
    "\tflat=false\n",
    "\tminLevel=1\n",
    "\tmaxLevel=6\n",
    "\t/vscode-jupyter-toc-config -->\n",
    "<!-- THIS CELL WILL BE REPLACED ON TOC UPDATE. DO NOT WRITE YOUR TEXT IN THIS CELL -->"
   ]
  },
  {
   "cell_type": "markdown",
   "metadata": {},
   "source": [
    "# <a id='toc1_'></a>[Introduction](#toc0_)"
   ]
  },
  {
   "cell_type": "markdown",
   "metadata": {},
   "source": [
    "**Design of Experiments**\n",
    "\n",
    "The goal of DOE simulations is to make predictions concerning the response of physical systems to various kinds of excitation, and based on those predictions, make informed decisions.\n",
    "\n",
    "Mathematical models are an idealization of reality and should never be confused with the physical reality that they are supposed to represent.\n",
    "\n",
    "The choice of a mathematical model depends on its intended use:\n",
    "    What aspects of the physical reality are of interest?\n",
    "    What data must be predicted?\n",
    "    What accuracy is required?\n",
    "\n",
    "What is very important: there exist errors associated with the mathematical model and some errors are associated with its data driven solutions. These are errors of “Level of Confidence (e.g., 95%) & # Experiments Runs”(DOE) and errors (MAE, RMSE) of “training” set for ML/AI.\n"
   ]
  },
  {
   "cell_type": "markdown",
   "metadata": {},
   "source": [
    "# <a id='toc2_'></a>[Design of Experiments](#toc0_)\n",
    "\n",
    "<span style=\"color:red\"><b>_The Design of Experiments, also known as experiment design or experimental design, is the design of any task that aims to describe and explain the variation of information under conditions that are hypothesized to reflect the variation._</b></span>\n",
    "\n",
    "#### <a id='toc2_1_1_1_'></a>[Definition](#toc0_)\n",
    "\n",
    "**Design of Experiments (DoE)**\n",
    "\n",
    "Design of Experiments is a systematic method to determine the relationship between factors affecting a process and the output of that process. In a full factorial design, experiments are conducted at all possible combinations of factor levels. This approach allows for the investigation of the effect of each factor and their interactions on the response variable.\n",
    "\n",
    "\n",
    "The term is generally associated with experiments in which the design introduces conditions that directly affect the variation, but may also refer to the design of quasi-experiments, in which natural conditions that influence the variation are selected for observation.\n",
    "\n",
    "In its simplest form, an experiment aims at predicting the outcome by introducing a change of the preconditions, which is represented by one or more independent variables, also referred to as \"input variables\" or \"predictor variables.\" The change in one or more independent variables is generally hypothesized to result in a change in one or more dependent variables, also referred to as \"output variables\" or \"response variables."
   ]
  },
  {
   "cell_type": "markdown",
   "metadata": {},
   "source": [
    "Main concerns in experimental design include the establishment of validity, reliability, and replicability.\n",
    "- For example, these concerns can be partially addressed by carefully choosing the independent variable, reducing the risk of measurement error, and ensuring that the documentation of the method is sufficiently detailed.\n",
    "- Related concerns include achieving appropriate levels of statistical power and sensitivity."
   ]
  },
  {
   "cell_type": "markdown",
   "metadata": {},
   "source": [
    "Correctly designed experiments advance knowledge in the natural and social sciences and engineering, with design of experiments methodology recognized as a key tool in the successful implementation of a **Quality by Design (QbD)** framework.\n",
    "\n",
    "Other applications include marketing and policy making. The study of the design of experiments is an important topic in **$metascience$**."
   ]
  },
  {
   "cell_type": "markdown",
   "metadata": {},
   "source": [
    "**$Metascience$** (also known as meta-research) is the use of scientific methodology to study science itself. Metascience seeks to increase the quality of scientific research while reducing inefficiency. "
   ]
  },
  {
   "cell_type": "markdown",
   "metadata": {},
   "source": [
    "# <a id='toc3_'></a>[Full Factorial Design](#toc0_)"
   ]
  },
  {
   "cell_type": "markdown",
   "metadata": {},
   "source": [
    "### <a id='toc3_1_1_'></a>[Fundamental Concepts](#toc0_)\n",
    "\n",
    "<b>$Main Factors of a DOE$</b>\n",
    "\n",
    "1. A full factorial design defines an experiment where trials are run at all possible combinations of factor settings.\n",
    "2. A full factorial design allows the estimation of all possible interactions.\n",
    "3. Full factorial designs are large compared to screening designs, and since high-level interactions are often not active, they can be inefficient.\n",
    "4. They are typically used when you have a small number of factors and levels and want information about all possible interactions."
   ]
  },
  {
   "cell_type": "markdown",
   "metadata": {},
   "source": [
    "### <a id='toc3_1_2_'></a>[Example of a Full Factorial Design – JMP Software](#toc0_)"
   ]
  },
  {
   "cell_type": "markdown",
   "metadata": {},
   "source": [
    "<img src=\"images/Full Factorial_1.png\" width=\"340\" height=\"428\" style=\"display: block; margin-left: auto; margin-right: auto; border-radius: 8px;\" />"
   ]
  },
  {
   "cell_type": "markdown",
   "metadata": {},
   "source": [
    "#### <a id='toc3_1_2_1_'></a>[Five-Factor Full Factorial](#toc0_)\n",
    "\n",
    "Design a five-factor full factorial design. With five factors, each at two levels, the full factorial design includes 25 = 32 runs. For smaller screening designs involving this experimental situation, we can use Screening Designs.\n"
   ]
  },
  {
   "cell_type": "markdown",
   "metadata": {},
   "source": [
    "\n",
    "<img src=\"images/Screenshot 2024-10-22 at 12.53.44 PM.png\" width=\"540\" height=\"420\" style=\"display: block; margin-left: auto; margin-right: auto; border-radius: 8px;\" />"
   ]
  },
  {
   "cell_type": "markdown",
   "metadata": {},
   "source": [
    "#### <a id='toc3_1_2_2_'></a>[ Constructing a Five-Factor Full Factorial](#toc0_)"
   ]
  },
  {
   "cell_type": "markdown",
   "metadata": {},
   "source": [
    "\n",
    "<img src=\"images/Screenshot 2024-10-22 at 12.54.05 PM.png\" width=\"540\" height=\"406\" style=\"display: block; margin-left: auto; margin-right: auto; border-radius: 8px;\" />"
   ]
  },
  {
   "cell_type": "markdown",
   "metadata": {},
   "source": [
    "#### <a id='toc3_1_2_3_'></a>[ Constructing a Five-Factor Full Factorial Table](#toc0_)"
   ]
  },
  {
   "cell_type": "markdown",
   "metadata": {},
   "source": [
    "\n",
    "<img src=\"images/Screenshot 2024-10-22 at 12.55.08 PM.png\" width=\"540\" height=\"445\" style=\"display: block; margin-left: auto; margin-right: auto; border-radius: 8px;\" />"
   ]
  },
  {
   "cell_type": "markdown",
   "metadata": {},
   "source": [
    "#### <a id='toc3_1_2_4_'></a>[ Analyzing the Five-Factor Full Factorial](#toc0_)"
   ]
  },
  {
   "cell_type": "markdown",
   "metadata": {},
   "source": [
    "\n",
    "<img src=\"images/Screenshot 2024-10-22 at 12.55.23 PM.png\" width=\"540\" height=\"438\" style=\"display: block; margin-left: auto; margin-right: auto; border-radius: 8px;\" />"
   ]
  },
  {
   "cell_type": "markdown",
   "metadata": {},
   "source": [
    "#### <a id='toc3_1_2_5_'></a>[ Screening for Significant Factors for a Five-Factor Full Factorial](#toc0_)\n",
    "##### <a id='toc3_1_2_5_1_'></a>[**Screening Analysis: Contrast values, t-ratio values, p-values**](#toc0_)\n"
   ]
  },
  {
   "cell_type": "markdown",
   "metadata": {},
   "source": [
    "\n",
    "<img src=\"images/Screenshot 2024-10-22 at 12.55.42 PM.png\" width=\"540\" height=\"464\" style=\"display: block; margin-left: auto; margin-right: auto; border-radius: 8px;\" />"
   ]
  },
  {
   "cell_type": "markdown",
   "metadata": {},
   "source": [
    "#### <a id='toc3_1_2_6_'></a>[ Half Normal Plot for Main Factors a Five-Factor Full Factorial](#toc0_)"
   ]
  },
  {
   "cell_type": "markdown",
   "metadata": {},
   "source": [
    "\n",
    "<img src=\"images/Screenshot 2024-10-22 at 12.55.58 PM.png\" width=\"540\" height=\"442\" style=\"display: block; margin-left: auto; margin-right: auto; border-radius: 8px;\" />"
   ]
  },
  {
   "cell_type": "markdown",
   "metadata": {},
   "source": [
    "#### <a id='toc3_1_2_7_'></a>[ Model Construction for a Five-Factor Full Factorial](#toc0_)"
   ]
  },
  {
   "cell_type": "markdown",
   "metadata": {},
   "source": [
    "\n",
    "<img src=\"images/Screenshot 2024-10-22 at 12.56.11 PM.png\" width=\"540\" height=\"411\" style=\"display: block; margin-left: auto; margin-right: auto; border-radius: 8px;\" />"
   ]
  },
  {
   "cell_type": "markdown",
   "metadata": {},
   "source": [
    "#### <a id='toc3_1_2_8_'></a>[ Response Results Five-Factor Full Factorial](#toc0_)"
   ]
  },
  {
   "cell_type": "markdown",
   "metadata": {},
   "source": [
    "\n",
    "<img src=\"images/Screenshot 2024-10-22 at 12.56.46 PM.png\" width=\"540\" height=\"449\" style=\"display: block; margin-left: auto; margin-right: auto; border-radius: 8px;\" />"
   ]
  },
  {
   "cell_type": "markdown",
   "metadata": {},
   "source": [
    "#### <a id='toc3_1_2_9_'></a>[ Predictor and Profiler Five-Factor Full Factorial](#toc0_)"
   ]
  },
  {
   "cell_type": "markdown",
   "metadata": {},
   "source": [
    "\n",
    "<img src=\"images/Screenshot 2024-10-22 at 12.56.59 PM.png\" width=\"540\" height=\"499\" style=\"display: block; margin-left: auto; margin-right: auto; border-radius: 8px;\" />"
   ]
  },
  {
   "cell_type": "markdown",
   "metadata": {},
   "source": [
    "### <a id='toc3_1_3_'></a>[Now, find optimal settings for the three active factors involved in the five significant effects that you retained in your model.](#toc0_)\n",
    "\n",
    "1. In the Reactor 32 Runs.jmp data table, run the Reduced Model script.\n",
    "The Reduced Model script opens a Fit Model window for the five-effect model that you identified in Analysis Using Screening Platform and Analysis Using Stepwise Regression.\n",
    "\n",
    "2. Click **Run.**\n",
    "\n",
    "3. The Prediction Profiler report displays Desirability because in the Full Factorial window, you specified a Goal of Maximize when you defined your response.\n",
    "The desirability function shown in the rightmost cell in the top row of the profiler shows that a value of 100 is most desirable and a value of 90 or below is least desirable.\n",
    "\n",
    "3. Click the Prediction Profiler red triangle and select Optimization and Desirability > Maximize Desirability.\n"
   ]
  }
 ],
 "metadata": {
  "kernelspec": {
   "display_name": "base",
   "language": "python",
   "name": "python3"
  },
  "language_info": {
   "codemirror_mode": {
    "name": "ipython",
    "version": 3
   },
   "file_extension": ".py",
   "mimetype": "text/x-python",
   "name": "python",
   "nbconvert_exporter": "python",
   "pygments_lexer": "ipython3",
   "version": "3.11.7"
  }
 },
 "nbformat": 4,
 "nbformat_minor": 2
}
